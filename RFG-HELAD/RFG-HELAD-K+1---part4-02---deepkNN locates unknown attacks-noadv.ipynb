{
 "cells": [
  {
   "cell_type": "code",
   "execution_count": 1,
   "id": "fc8ae1be",
   "metadata": {},
   "outputs": [
    {
     "name": "stdout",
     "output_type": "stream",
     "text": [
      "3.6.13 |Anaconda, Inc.| (default, Feb 23 2021, 21:15:04) \n",
      "[GCC 7.3.0]\n",
      "1.8.0+cu111\n",
      "Random Seed:  999\n"
     ]
    }
   ],
   "source": [
    "from __future__ import print_function, division\n",
    "import os, random, time, copy\n",
    "import numpy as np\n",
    "import pandas as pd\n",
    "import os.path as path\n",
    "import scipy.io as sio\n",
    "from scipy import misc\n",
    "from scipy import ndimage, signal\n",
    "import scipy\n",
    "import pickle\n",
    "import sys\n",
    "import math\n",
    "import matplotlib.pyplot as plt\n",
    "from io import BytesIO\n",
    "\n",
    "\n",
    "import torch\n",
    "from torch.utils.data import Dataset, DataLoader\n",
    "import torch.nn as nn\n",
    "import torch.optim as optim\n",
    "from torch.optim import lr_scheduler \n",
    "import torch.nn.functional as F\n",
    "from torch.autograd import Variable\n",
    "import torchvision\n",
    "from torchvision import datasets, models, transforms\n",
    "import torchvision.utils as vutils\n",
    "\n",
    "\n",
    "import warnings \n",
    "warnings.filterwarnings(\"ignore\")\n",
    "print(sys.version)\n",
    "print(torch.__version__)\n",
    "\n",
    "\n",
    "manualSeed = 999\n",
    "print(\"Random Seed: \", manualSeed)\n",
    "random.seed(manualSeed)\n",
    "torch.manual_seed(manualSeed)\n",
    "\n",
    "\n",
    "import faiss\n",
    "import os\n",
    "import pandas as pd\n",
    "import seaborn as sn\n",
    "import torch\n",
    "import torch.nn as nn\n",
    "import torch.nn.functional as F\n",
    "import torchvision\n",
    "import numpy as np\n",
    "import faiss\n",
    "from IPython import display\n",
    "from torch.optim.lr_scheduler import OneCycleLR\n"
   ]
  },
  {
   "cell_type": "code",
   "execution_count": 2,
   "id": "b1ab2cc4",
   "metadata": {},
   "outputs": [],
   "source": [
    "\n",
    "\n",
    "tarad=torch.load('./savedata/tarad1225.pkl')\n",
    "\n",
    "\n",
    "\n",
    "featesttrain=torch.load('./savedata/featesttrain1229.pkl') \n",
    "\n",
    "featestA=torch.load('./savedata/featestAzyori0106.pkl')\n",
    "\n",
    "featestD=torch.load('./savedata/featestDzy0106.pkl')\n",
    "\n",
    "\n",
    "\n",
    "featesttrain2=torch.load('./savedata/featesttrain0102-noadv.pkl')\n",
    "\n",
    "featestA2=torch.load('./savedata/featestA0102-noadv.pkl')\n",
    "\n",
    "featestD2=torch.load('./savedata/featestD0102-noadv.pkl')\n",
    "\n"
   ]
  },
  {
   "cell_type": "code",
   "execution_count": 3,
   "id": "5f786a9c",
   "metadata": {},
   "outputs": [],
   "source": [
    "dd=[]\n",
    "newtrain=[]\n",
    "for i in range(len(featesttrain)):\n",
    "    dd=[]\n",
    "    dd.append(featesttrain[i].detach().cpu().numpy())\n",
    "    dd=np.concatenate(dd)\n",
    "    newtrain.append(dd)\n",
    "    \n",
    "    \n",
    "dd=[]\n",
    "newtestA=[]\n",
    "for i in range(len(featestA)):\n",
    "    dd=[]\n",
    "    dd.append(featestA[i].detach().cpu().numpy())\n",
    "    dd=np.concatenate(dd)\n",
    "    newtestA.append(dd)\n",
    "    \n",
    "dd=[]\n",
    "newtestD=[]\n",
    "for i in range(len(featestD)):\n",
    "    dd=[]\n",
    "    dd.append(featestD[i].detach().cpu().numpy())\n",
    "    dd=np.concatenate(dd)\n",
    "    newtestD.append(dd)\n",
    "\n",
    "    \n",
    "train_features = np.array(torch.tensor(newtrain))\n",
    "test_features = np.array(torch.tensor(newtestA))\n",
    "ood_features = np.array(torch.tensor(newtestD))"
   ]
  },
  {
   "cell_type": "code",
   "execution_count": 4,
   "id": "4b31b9eb",
   "metadata": {},
   "outputs": [],
   "source": [
    "dd=[]\n",
    "newtrain2=[]\n",
    "for i in range(len(featesttrain2)):\n",
    "    dd=[]\n",
    "    dd.append(featesttrain2[i].detach().cpu().numpy())\n",
    "    dd=np.concatenate(dd)\n",
    "    newtrain2.append(dd)\n",
    "    \n",
    "    \n",
    "dd=[]\n",
    "newtestA2=[]\n",
    "for i in range(len(featestA2)):\n",
    "    dd=[]\n",
    "    dd.append(featestA2[i].detach().cpu().numpy())\n",
    "    dd=np.concatenate(dd)\n",
    "    newtestA2.append(dd)\n",
    "    \n",
    "dd=[]\n",
    "newtestD2=[]\n",
    "for i in range(len(featestD2)):\n",
    "    dd=[]\n",
    "    dd.append(featestD2[i].detach().cpu().numpy())\n",
    "    dd=np.concatenate(dd)\n",
    "    newtestD2.append(dd)\n",
    "  \n",
    "\n",
    "train_features2 = np.array(torch.tensor(newtrain2))\n",
    "test_features2 = np.array(torch.tensor(newtestA2))\n",
    "ood_features2 = np.array(torch.tensor(newtestD2))"
   ]
  },
  {
   "cell_type": "code",
   "execution_count": 5,
   "id": "ca6845de",
   "metadata": {},
   "outputs": [],
   "source": [
    "\n",
    "train_features00 = np.concatenate([train_features,train_features2],axis=1)\n",
    "test_features00 = np.concatenate([test_features,test_features2],axis=1)\n",
    "ood_features00 = np.concatenate([ood_features,ood_features2],axis=1)"
   ]
  },
  {
   "cell_type": "code",
   "execution_count": 6,
   "id": "f42f6187",
   "metadata": {},
   "outputs": [],
   "source": [
    "index = faiss.IndexFlatL2(train_features00.shape[1])\n",
    "index.add(train_features00)"
   ]
  },
  {
   "cell_type": "code",
   "execution_count": 7,
   "id": "19745d54",
   "metadata": {},
   "outputs": [],
   "source": [
    "k = 1\n",
    "in_l2_distances, in_k_closest_points = index.search(test_features00, k)"
   ]
  },
  {
   "cell_type": "code",
   "execution_count": 8,
   "id": "f11b2a89",
   "metadata": {},
   "outputs": [],
   "source": [
    "\n",
    "in_scores = in_l2_distances[:, -1]"
   ]
  },
  {
   "cell_type": "code",
   "execution_count": 9,
   "id": "cb453c7a",
   "metadata": {},
   "outputs": [],
   "source": [
    "\n",
    "out_l2_distances, out_k_closest_points = index.search(ood_features00, k)"
   ]
  },
  {
   "cell_type": "code",
   "execution_count": 10,
   "id": "a38f0bfd",
   "metadata": {},
   "outputs": [],
   "source": [
    "out_scores = out_l2_distances[:, -1]"
   ]
  },
  {
   "cell_type": "code",
   "execution_count": 11,
   "id": "1098b49e",
   "metadata": {},
   "outputs": [],
   "source": [
    "in_scores.sort()\n",
    "out_scores.sort()"
   ]
  },
  {
   "cell_type": "code",
   "execution_count": 12,
   "id": "9a973838",
   "metadata": {},
   "outputs": [],
   "source": [
    "threshold= 0.007583484#Thresholds can be selected from the validation set\n"
   ]
  },
  {
   "cell_type": "code",
   "execution_count": 13,
   "id": "81e5c9c3",
   "metadata": {},
   "outputs": [
    {
     "name": "stdout",
     "output_type": "stream",
     "text": [
      "threshold: 0.007583484\n",
      "{'tp': 2184, 'tn': 233, 'fp': 119, 'fn': 40, 'tpr': 0.9820143884892086, 'fpr': 0.3380681818181818}\n"
     ]
    }
   ],
   "source": [
    "print(\"threshold:\",threshold)\n",
    "\n",
    "tp = 0\n",
    "tn = 0\n",
    "fp = 0\n",
    "fn = 0\n",
    "testAres=[]\n",
    "testDres=[]\n",
    "for point in in_scores:\n",
    "    if point <= threshold:\n",
    "        testAres.append(0)\n",
    "        tp += 1\n",
    "    else:\n",
    "        testAres.append(1)\n",
    "        fn += 1\n",
    "\n",
    "for point in out_scores:\n",
    "    if point <= threshold:\n",
    "        testDres.append(0)\n",
    "        fp += 1\n",
    "    else:\n",
    "        testDres.append(1)\n",
    "        tn += 1\n",
    "        \n",
    "tp_rate = tp / (tp + fn)\n",
    "tn_rate = tn / (tn + fp)\n",
    "fp_rate = fp / (fp + tn)\n",
    "fn_rate = fn / (fn + tp)\n",
    "\n",
    "result = {\n",
    "    \"tp\": tp,\n",
    "    \"tn\": tn,\n",
    "    \"fp\": fp,\n",
    "    \"fn\": fn,\n",
    "    \"tpr\": tp_rate,\n",
    "    \"fpr\": fp_rate,\n",
    "}\n",
    "\n",
    "print(result)"
   ]
  },
  {
   "cell_type": "code",
   "execution_count": 14,
   "id": "a0ebcc36",
   "metadata": {},
   "outputs": [],
   "source": [
    "testres=testAres+testDres"
   ]
  },
  {
   "cell_type": "code",
   "execution_count": 15,
   "id": "8d9493a1",
   "metadata": {},
   "outputs": [],
   "source": [
    "y_test=[]\n",
    "\n",
    "for i in range(len(tarad)):\n",
    "    if tarad[i]<5:\n",
    "        y_test.append(0)\n",
    "    else:\n",
    "        y_test.append(1)"
   ]
  },
  {
   "cell_type": "code",
   "execution_count": 16,
   "id": "985b9e14",
   "metadata": {},
   "outputs": [
    {
     "name": "stdout",
     "output_type": "stream",
     "text": [
      "Accuracy of DeepkNN in localizing unknown attacks without adv: 0.9382763975155279\n"
     ]
    }
   ],
   "source": [
    "from sklearn.metrics import accuracy_score\n",
    "from sklearn.metrics import classification_report\n",
    "\n",
    "print(\"Accuracy of DeepkNN in localizing unknown attacks without adv:\",accuracy_score(y_test, testres))\n"
   ]
  },
  {
   "cell_type": "code",
   "execution_count": 17,
   "id": "4df36e86",
   "metadata": {},
   "outputs": [],
   "source": [
    "torch.save(testres,'./savedata/testres1231-noadv.pkl')"
   ]
  },
  {
   "cell_type": "code",
   "execution_count": null,
   "id": "13b24c51",
   "metadata": {},
   "outputs": [],
   "source": []
  }
 ],
 "metadata": {
  "kernelspec": {
   "display_name": "Python 3",
   "language": "python",
   "name": "python3"
  },
  "language_info": {
   "codemirror_mode": {
    "name": "ipython",
    "version": 3
   },
   "file_extension": ".py",
   "mimetype": "text/x-python",
   "name": "python",
   "nbconvert_exporter": "python",
   "pygments_lexer": "ipython3",
   "version": "3.6.13"
  },
  "toc": {
   "base_numbering": 1,
   "nav_menu": {},
   "number_sections": true,
   "sideBar": true,
   "skip_h1_title": false,
   "title_cell": "Table of Contents",
   "title_sidebar": "Contents",
   "toc_cell": false,
   "toc_position": {},
   "toc_section_display": true,
   "toc_window_display": false
  },
  "varInspector": {
   "cols": {
    "lenName": 16,
    "lenType": 16,
    "lenVar": 40
   },
   "kernels_config": {
    "python": {
     "delete_cmd_postfix": "",
     "delete_cmd_prefix": "del ",
     "library": "var_list.py",
     "varRefreshCmd": "print(var_dic_list())"
    },
    "r": {
     "delete_cmd_postfix": ") ",
     "delete_cmd_prefix": "rm(",
     "library": "var_list.r",
     "varRefreshCmd": "cat(var_dic_list()) "
    }
   },
   "types_to_exclude": [
    "module",
    "function",
    "builtin_function_or_method",
    "instance",
    "_Feature"
   ],
   "window_display": false
  }
 },
 "nbformat": 4,
 "nbformat_minor": 5
}
