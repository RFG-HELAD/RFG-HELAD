{
 "cells": [
  {
   "cell_type": "code",
   "execution_count": 13,
   "id": "f3b93b18",
   "metadata": {},
   "outputs": [
    {
     "name": "stdout",
     "output_type": "stream",
     "text": [
      "3.6.13 |Anaconda, Inc.| (default, Feb 23 2021, 21:15:04) \n",
      "[GCC 7.3.0]\n",
      "1.8.0+cu111\n",
      "Random Seed:  999\n"
     ]
    },
    {
     "data": {
      "text/plain": [
       "<torch._C.Generator at 0x7f01bd423090>"
      ]
     },
     "execution_count": 13,
     "metadata": {},
     "output_type": "execute_result"
    }
   ],
   "source": [
    "from __future__ import print_function, division\n",
    "import os, random, time, copy\n",
    "import numpy as np\n",
    "import pandas as pd\n",
    "import os.path as path\n",
    "import scipy.io as sio\n",
    "from scipy import misc\n",
    "from scipy import ndimage, signal\n",
    "import scipy\n",
    "import pickle\n",
    "import sys\n",
    "import math\n",
    "import matplotlib.pyplot as plt\n",
    "from io import BytesIO\n",
    "\n",
    "\n",
    "import torch\n",
    "from torch.utils.data import Dataset, DataLoader\n",
    "import torch.nn as nn\n",
    "import torch.optim as optim\n",
    "from torch.optim import lr_scheduler \n",
    "import torch.nn.functional as F\n",
    "from torch.autograd import Variable\n",
    "import torchvision\n",
    "from torchvision import datasets, models, transforms\n",
    "import torchvision.utils as vutils\n",
    "\n",
    "\n",
    "import warnings\n",
    "warnings.filterwarnings(\"ignore\")\n",
    "print(sys.version)\n",
    "print(torch.__version__)\n",
    "\n",
    "\n",
    "manualSeed = 999\n",
    "print(\"Random Seed: \", manualSeed)\n",
    "random.seed(manualSeed)\n",
    "torch.manual_seed(manualSeed)"
   ]
  },
  {
   "cell_type": "code",
   "execution_count": 14,
   "id": "110b1379",
   "metadata": {},
   "outputs": [],
   "source": [
    "\n",
    "tarad=torch.load('./savedata/tarad1225.pkl')\n",
    "\n",
    "\n",
    "pread=torch.load('./savedata/preadzyadv0106.pkl')\n",
    "\n",
    "preadnoadv=torch.load('./savedata/preadzyori0106.pkl')\n",
    "\n",
    "\n",
    "testres=torch.load('./savedata/testres1231.pkl')\n",
    "\n",
    "testresnoadv=torch.load('./savedata/testres1231-noadv.pkl')"
   ]
  },
  {
   "cell_type": "code",
   "execution_count": 15,
   "id": "912000c5",
   "metadata": {},
   "outputs": [
    {
     "name": "stdout",
     "output_type": "stream",
     "text": [
      "DNN+CL detection model for ACC in K+1 attack detection: 0.8412267080745341\n"
     ]
    }
   ],
   "source": [
    "import copy\n",
    "from sklearn.metrics import accuracy_score\n",
    "\n",
    "num_class=5\n",
    "\n",
    "preadfanzhuan=copy.deepcopy(torch.tensor(preadnoadv))\n",
    "\n",
    "print(\"DNN+CL detection model for ACC in K+1 attack detection:\",accuracy_score(torch.tensor(tarad),preadfanzhuan))\n",
    "\n",
    "\n",
    "for j in range(len(testresnoadv)):\n",
    "    if testresnoadv[j]==1:\n",
    "        preadfanzhuan[j]=int(num_class)\n",
    "\n",
    "\n",
    "torch.save(preadfanzhuan,'./savedata/preadfanzhuan-ori-pre-0108.pkl')\n",
    "\n",
    "\n",
    "\n",
    "preadfanzhuan=copy.deepcopy(torch.tensor(pread))\n",
    "\n",
    "for j in range(len(testres)):\n",
    "    if testres[j]==1:\n",
    "        preadfanzhuan[j]=int(num_class)\n",
    "\n",
    "\n",
    "torch.save(preadfanzhuan,'./savedata/preadfanzhuan-advwithgan-pre-0108.pkl')"
   ]
  },
  {
   "cell_type": "code",
   "execution_count": 16,
   "id": "49b4f263",
   "metadata": {},
   "outputs": [
    {
     "name": "stdout",
     "output_type": "stream",
     "text": [
      "Final ACC of RFG-HELAD-K+1: 0.891110248447205\n"
     ]
    }
   ],
   "source": [
    "\n",
    "#our model is tested twice, once without perturbation and once with perturbation,\n",
    "# which is closer to a real scenario, i.e., not all traffic will be perturbed.\n",
    "\n",
    "\n",
    "from sklearn.metrics import accuracy_score\n",
    "\n",
    "\n",
    "preadori=torch.load('./savedata/preadfanzhuan-ori-pre-0108.pkl')\n",
    "\n",
    "\n",
    "preadadvwithgan=torch.load('./savedata/preadfanzhuan-advwithgan-pre-0108.pkl')\n",
    "\n",
    "\n",
    "\n",
    "\n",
    "#taraddouble=tarad+tarad\n",
    "taraddouble=[]\n",
    "\n",
    "for i in range(len(tarad)):\n",
    "    taraddouble.append(tarad[i])\n",
    "\n",
    "for i in range(len(tarad)):\n",
    "    taraddouble.append(tarad[i])\n",
    "    \n",
    "#preaddoubleori=preadori+preadadvwithgan\n",
    "\n",
    "preaddoubleori=[]\n",
    "\n",
    "for i in range(len(preadori)):\n",
    "    preaddoubleori.append(preadori[i])\n",
    "\n",
    "for i in range(len(preadadvwithgan)):\n",
    "    preaddoubleori.append((preadadvwithgan[i]))\n",
    "\n",
    "\n",
    "print(\"Final ACC of RFG-HELAD-K+1:\",accuracy_score(taraddouble,preaddoubleori))\n",
    "\n"
   ]
  },
  {
   "cell_type": "code",
   "execution_count": null,
   "id": "7e2dd625",
   "metadata": {},
   "outputs": [],
   "source": []
  }
 ],
 "metadata": {
  "kernelspec": {
   "display_name": "Python 3",
   "language": "python",
   "name": "python3"
  },
  "language_info": {
   "codemirror_mode": {
    "name": "ipython",
    "version": 3
   },
   "file_extension": ".py",
   "mimetype": "text/x-python",
   "name": "python",
   "nbconvert_exporter": "python",
   "pygments_lexer": "ipython3",
   "version": "3.6.13"
  },
  "toc": {
   "base_numbering": 1,
   "nav_menu": {},
   "number_sections": true,
   "sideBar": true,
   "skip_h1_title": false,
   "title_cell": "Table of Contents",
   "title_sidebar": "Contents",
   "toc_cell": false,
   "toc_position": {},
   "toc_section_display": true,
   "toc_window_display": false
  },
  "varInspector": {
   "cols": {
    "lenName": 16,
    "lenType": 16,
    "lenVar": 40
   },
   "kernels_config": {
    "python": {
     "delete_cmd_postfix": "",
     "delete_cmd_prefix": "del ",
     "library": "var_list.py",
     "varRefreshCmd": "print(var_dic_list())"
    },
    "r": {
     "delete_cmd_postfix": ") ",
     "delete_cmd_prefix": "rm(",
     "library": "var_list.r",
     "varRefreshCmd": "cat(var_dic_list()) "
    }
   },
   "types_to_exclude": [
    "module",
    "function",
    "builtin_function_or_method",
    "instance",
    "_Feature"
   ],
   "window_display": false
  }
 },
 "nbformat": 4,
 "nbformat_minor": 5
}
